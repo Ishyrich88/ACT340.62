{
  "nbformat": 4,
  "nbformat_minor": 0,
  "metadata": {
    "colab": {
      "provenance": [],
      "include_colab_link": true
    },
    "kernelspec": {
      "name": "python3",
      "display_name": "Python 3"
    },
    "language_info": {
      "name": "python"
    }
  },
  "cells": [
    {
      "cell_type": "markdown",
      "metadata": {
        "id": "view-in-github",
        "colab_type": "text"
      },
      "source": [
        "<a href=\"https://colab.research.google.com/github/GabrielaGuayara/ACT340.6.2/blob/main/ACT_340_6_2_Dictionary_Exercises_Advanced.ipynb\" target=\"_parent\"><img src=\"https://colab.research.google.com/assets/colab-badge.svg\" alt=\"Open In Colab\"/></a>"
      ]
    },
    {
      "cell_type": "markdown",
      "source": [
        "# Dictionary Practice Excercises- Advanced\n",
        "\n",
        "Complete the following practice excercises below to build up your skills with manipulating dictionaries.\n",
        "\n"
      ],
      "metadata": {
        "id": "fxJ6r0UtCx8d"
      }
    },
    {
      "cell_type": "markdown",
      "source": [
        "**Problem 1**\n",
        "\n",
        "* Add the following key/value pair to the dictionary below.\n",
        "  \"oceans\": [\"Pacific\", \"Atlantic\", \"Indian\", \"Arctic\"]\n",
        "\n"
      ],
      "metadata": {
        "id": "SPZ5wKD54OV8"
      }
    },
    {
      "cell_type": "code",
      "source": [
        "geography= {\"continets\": [\"North America\", \"South America\", \"Africa\", \"Antarctica\", \"Australia\", \"Asia\", \"Europe\"]}\n",
        "geography[\"oceans\"] = [\"Pacific\", \"Atlantic\", \"Indian\", \"Arctic\"]\n",
        "\n",
        "print(geography)"
      ],
      "metadata": {
        "id": "su6Dtm2l7moD",
        "outputId": "c5b2dee7-2951-4c6b-b1d2-d51300fab6f7",
        "colab": {
          "base_uri": "https://localhost:8080/"
        }
      },
      "execution_count": 1,
      "outputs": [
        {
          "output_type": "stream",
          "name": "stdout",
          "text": [
            "{'continets': ['North America', 'South America', 'Africa', 'Antarctica', 'Australia', 'Asia', 'Europe'], 'oceans': ['Pacific', 'Atlantic', 'Indian', 'Arctic']}\n"
          ]
        }
      ]
    },
    {
      "cell_type": "markdown",
      "source": [
        "**Problem 2**\n",
        "\n",
        "\n",
        "\n",
        "*   Use the Dictionary below\n",
        "*   Change the value for the height key to 72 inches\n",
        "\n"
      ],
      "metadata": {
        "id": "lE7F2U9L75_T"
      }
    },
    {
      "cell_type": "code",
      "source": [
        "patient= {\"name\": \"John Doe\", \"age\": 25, \"height\": 64, \"symptoms\": \"cough\" }\n",
        "patient[\"height\"] = 72\n",
        "\n",
        "print(patient)"
      ],
      "metadata": {
        "id": "Dne-3hDU8lSA",
        "outputId": "06109f18-8a8b-42c9-d9a3-32943af7ee9a",
        "colab": {
          "base_uri": "https://localhost:8080/"
        }
      },
      "execution_count": 2,
      "outputs": [
        {
          "output_type": "stream",
          "name": "stdout",
          "text": [
            "{'name': 'John Doe', 'age': 25, 'height': 72, 'symptoms': 'cough'}\n"
          ]
        }
      ]
    },
    {
      "cell_type": "markdown",
      "source": [
        "**Problem 3**\n",
        "\n",
        "*   Use the same dictionary as above\n",
        "*   Use a Class method to generate a list of tuples that consists of each key:value pair\n",
        "\n"
      ],
      "metadata": {
        "id": "iRqGQjLZ9aDq"
      }
    },
    {
      "cell_type": "code",
      "source": [
        "class Patient:\n",
        "    def __init__(self, name, age, height, symptoms):\n",
        "        self.name = name\n",
        "        self.age = age\n",
        "        self.height = height\n",
        "        self.symptoms = symptoms\n",
        "\n",
        "    def get_info(self):\n",
        "        info_tuples = [\n",
        "            (\"name\", self.name),\n",
        "            (\"age\", self.age),\n",
        "            (\"height\", self.height),\n",
        "            (\"symptoms\", self.symptoms)\n",
        "        ]\n",
        "        return info_tuples\n",
        "    def get_name(self):\n",
        "        return self.name\n",
        "patient = Patient(name=\"John Doe\", age=25, height=64, symptoms=\"cough\")\n",
        "tuples = patient.get_info()\n",
        "print(tuples)\n"
      ],
      "metadata": {
        "id": "ej-LPcQw9tlH",
        "outputId": "55529477-e7f5-4d2e-99c8-7126d6845f4c",
        "colab": {
          "base_uri": "https://localhost:8080/"
        }
      },
      "execution_count": 10,
      "outputs": [
        {
          "output_type": "stream",
          "name": "stdout",
          "text": [
            "[('name', 'John Doe'), ('age', 25), ('height', 64), ('symptoms', 'cough')]\n"
          ]
        }
      ]
    },
    {
      "cell_type": "markdown",
      "source": [
        "**Problem 4**\n",
        "\n",
        "\n",
        "\n",
        "*   Use the same dictionary as above\n",
        "*   Use a Class method to print the value of \"name'\n",
        "\n"
      ],
      "metadata": {
        "id": "30gd_UKX9xRj"
      }
    },
    {
      "cell_type": "code",
      "source": [
        "patient = Patient(name=\"John Doe\", age=25, height=64, symptoms=\"cough\")\n",
        "name = patient.get_name()\n",
        "print(name)"
      ],
      "metadata": {
        "id": "jtVXJwpp-E2D",
        "outputId": "9fee815f-4964-4359-8254-f47b523e7eff",
        "colab": {
          "base_uri": "https://localhost:8080/"
        }
      },
      "execution_count": 11,
      "outputs": [
        {
          "output_type": "stream",
          "name": "stdout",
          "text": [
            "John Doe\n"
          ]
        }
      ]
    },
    {
      "cell_type": "markdown",
      "source": [
        "**Problem 5**\n",
        "\n",
        "\n",
        "\n",
        "*   Use the same dictionary as above\n",
        "*   Use a Class method to look for the key \"weight\", and supply a default arguement of 150 if the value is not found\n",
        "\n"
      ],
      "metadata": {
        "id": "xEHhz1kf-Fcl"
      }
    },
    {
      "cell_type": "code",
      "source": [
        "def get_weight(patient):\n",
        "    weight = patient.get(\"weight\", 150)\n",
        "    return weight"
      ],
      "metadata": {
        "id": "lds025UR-jpK"
      },
      "execution_count": 12,
      "outputs": []
    },
    {
      "cell_type": "markdown",
      "source": [
        "**Problem 6**\n",
        "\n",
        "\n",
        "*   Use the same dictionary as above\n",
        "*   Use a Class method to remove everything from the dictionary\n",
        "\n",
        "\n"
      ],
      "metadata": {
        "id": "AdApgIMi-moT"
      }
    },
    {
      "cell_type": "code",
      "source": [
        "def remove_patient_info(patient):\n",
        "    patient.clear()\n",
        "    return patient"
      ],
      "metadata": {
        "id": "a7YXxpV7_O1F"
      },
      "execution_count": 13,
      "outputs": []
    },
    {
      "cell_type": "markdown",
      "source": [
        "**Problem 7**\n",
        "\n",
        "\n",
        "\n",
        "*   Use the dictionary below\n",
        "*   Use a for loop to move through the dictionary.\n",
        "*   If the value is above 2000, add the value to a new list minus 500\n",
        "*   Example: If the value is 2500, 2000 would be added to the new list\n",
        "\n"
      ],
      "metadata": {
        "id": "9ApUQ9qn_P01"
      }
    },
    {
      "cell_type": "code",
      "source": [
        "stock_qty= {\"cookies\": 3200, \"bread\": 500, \"crackers\": 52000, \"chips\": 2000}\n",
        "\n",
        "for key, value in stock_qty.items():\n",
        "    if value > 2000:\n",
        "        new_value = value - 500\n",
        "        print(f\"{key}: {new_value}\")"
      ],
      "metadata": {
        "id": "045nPKTs_6qg",
        "outputId": "89459115-d495-4bc3-d3d1-774fea5fd8e7",
        "colab": {
          "base_uri": "https://localhost:8080/"
        }
      },
      "execution_count": 14,
      "outputs": [
        {
          "output_type": "stream",
          "name": "stdout",
          "text": [
            "cookies: 2700\n",
            "crackers: 51500\n"
          ]
        }
      ]
    },
    {
      "cell_type": "markdown",
      "source": [
        "**Problem 8 **\n",
        "\n",
        "\n",
        "*   Use the list I did below\n",
        "*   Loop through the list\n",
        "*   Create a dictionary to keep track of how many times a number appears in a list\n",
        "*   Print the final dictionary\n",
        "\n",
        "*   Things to consider:\n",
        "\n",
        ">* How to check if an integer already exists in the new dictionary\n",
        ">* What is the first value when the key gets added to the dictionary?\n",
        ">* How to increase the value of each key on each iteration of the loop?\n",
        "\n",
        "\n",
        "\n"
      ],
      "metadata": {
        "id": "3TcqNBOGBGTP"
      }
    },
    {
      "cell_type": "code",
      "source": [
        "numbers = [10, 9, 88, 20, 9, 20, 22, 101, 68, 10, 108, 33, 9, 53]\n",
        "\n",
        "count_dict = {}\n",
        "\n",
        "for num in numbers:\n",
        "    if num in count_dict:\n",
        "        count_dict[num] += 1\n",
        "    else:\n",
        "        count_dict[num] = 1\n",
        "print(count_dict)\n"
      ],
      "metadata": {
        "id": "mfgV0KeYCOuO",
        "outputId": "a7bb24b6-b3a9-4670-f411-f4642754027c",
        "colab": {
          "base_uri": "https://localhost:8080/"
        }
      },
      "execution_count": 17,
      "outputs": [
        {
          "output_type": "stream",
          "name": "stdout",
          "text": [
            "{10: 2, 9: 3, 88: 1, 20: 2, 22: 1, 101: 1, 68: 1, 108: 1, 33: 1, 53: 1}\n"
          ]
        }
      ]
    }
  ]
}